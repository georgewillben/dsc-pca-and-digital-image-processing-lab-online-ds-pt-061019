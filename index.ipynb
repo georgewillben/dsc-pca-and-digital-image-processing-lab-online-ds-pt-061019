{
 "cells": [
  {
   "cell_type": "markdown",
   "metadata": {},
   "source": [
    "Some of the code in this lab was copied from the solution at https://github.com/learn-co-curriculum/dsc-pca-and-digital-image-processing-lab/tree/solution"
   ]
  },
  {
   "cell_type": "markdown",
   "metadata": {},
   "source": [
    "# Image Recognition with PCA - Lab\n",
    "\n",
    "## Introduction\n",
    "\n",
    "In this lab, you'll explore the classic MNIST dataset of handwritten digits. While not as large as the previous dataset on facial image recognition, it still provides a 64 dimensional dataset that is ripe for feature reduction.\n",
    "\n",
    "## Objectives\n",
    "\n",
    "In this lab you will: \n",
    "\n",
    "- Use PCA to discover the principal components with images \n",
    "- Use the principal components of  a dataset as features in a machine learning model \n",
    "- Calculate the time savings and performance gains of layering in PCA as a preprocessing step in machine learning pipelines "
   ]
  },
  {
   "cell_type": "markdown",
   "metadata": {},
   "source": [
    "## Load the data\n",
    "\n",
    "Load the `load_digits` dataset from the `datasets` module of scikit-learn. "
   ]
  },
  {
   "cell_type": "code",
   "execution_count": 33,
   "metadata": {},
   "outputs": [
    {
     "name": "stdout",
     "output_type": "stream",
     "text": [
      "(1797, 64) (1797,)\n"
     ]
    }
   ],
   "source": [
    "# Load the dataset\n",
    "from sklearn.datasets import load_digits\n",
    "data = load_digits()\n",
    "print(data.data.shape, data.target.shape)"
   ]
  },
  {
   "cell_type": "markdown",
   "metadata": {},
   "source": [
    "## Preview the dataset\n",
    "\n",
    "Now that the dataset is loaded, display the first 20 images."
   ]
  },
  {
   "cell_type": "code",
   "execution_count": 34,
   "metadata": {},
   "outputs": [],
   "source": [
    "import matplotlib.pyplot as plt\n",
    "%matplotlib inline"
   ]
  },
  {
   "cell_type": "code",
   "execution_count": 35,
   "metadata": {},
   "outputs": [
    {
     "data": {
      "text/plain": [
       "Text(0.5, 1.0, 'First 20 images of the MNIST dataset')"
      ]
     },
     "execution_count": 35,
     "metadata": {},
     "output_type": "execute_result"
    },
    {
     "data": {
      "image/png": "[encoded data removed]",
      "text/plain": [
       "<Figure size 720x720 with 20 Axes>"
      ]
     },
     "metadata": {
      "needs_background": "light"
     },
     "output_type": "display_data"
    }
   ],
   "source": [
    "# Display the first 20 images \n",
    "fig, axes = plt.subplots(nrows=4, ncols=5, figsize=(10,10))\n",
    "for n in range(20):\n",
    "    i = n // 5\n",
    "    j = n % 5\n",
    "    ax = axes[i][j]\n",
    "    ax.imshow(data.images[n], cmap=plt.cm.gray)\n",
    "plt.title('First 20 images of the MNIST dataset')"
   ]
  },
  {
   "cell_type": "markdown",
   "metadata": {},
   "source": [
    "## Baseline model\n",
    "\n",
    "Now it's time to fit an initial baseline model. \n",
    "\n",
    "- Split the data into training and test sets. Set `random_state=22` \n",
    "- Fit a support vector machine to the dataset. Set `gamma='auto'` \n",
    "- Record the training time \n",
    "- Print the training and test accucary of the model "
   ]
  },
  {
   "cell_type": "code",
   "execution_count": 36,
   "metadata": {},
   "outputs": [
    {
     "name": "stdout",
     "output_type": "stream",
     "text": [
      "(1347, 64) (450, 64) (1347,) (450,)\n"
     ]
    }
   ],
   "source": [
    "# Split the data\n",
    "from sklearn.model_selection import train_test_split\n",
    "\n",
    "\n",
    "X = data.data\n",
    "y = data.target\n",
    "X_train, X_test, y_train, y_test = train_test_split(X, y, random_state=22)\n",
    "print(X_train.shape, X_test.shape, y_train.shape, y_test.shape)"
   ]
  },
  {
   "cell_type": "code",
   "execution_count": 37,
   "metadata": {},
   "outputs": [
    {
     "name": "stdout",
     "output_type": "stream",
     "text": [
      "0.2892606258392334 seconds to fit\n"
     ]
    }
   ],
   "source": [
    "# Fit a naive model\n",
    "import time\n",
    "from sklearn import svm\n",
    "from sklearn.metrics import accuracy_score\n",
    "\n",
    "clf = svm.SVC(gamma='auto')\n",
    "\n",
    "# start time\n",
    "start = time.time()\n",
    "\n",
    "# train model\n",
    "clf.fit(X_train, y_train)\n",
    "\n",
    "# end time\n",
    "end = time.time()\n",
    "\n",
    "time_spent = end - start\n",
    "\n",
    "y_train_pred = clf.predict(X_train)\n",
    "y_test_pred = clf.predict(X_test)\n",
    "\n",
    "print(time_spent, 'seconds to fit')"
   ]
  },
  {
   "cell_type": "code",
   "execution_count": 38,
   "metadata": {},
   "outputs": [
    {
     "name": "stdout",
     "output_type": "stream",
     "text": [
      "Training Accuracy: 1.0\n",
      "Testing Accuracy: 0.58\n"
     ]
    }
   ],
   "source": [
    "# Training and test accuracy\n",
    "train_acc = accuracy_score(y_train, y_train_pred)\n",
    "test_acc = accuracy_score(y_test, y_test_pred)\n",
    "print('Training Accuracy: {}\\nTesting Accuracy: {}'.format(train_acc, test_acc))"
   ]
  },
  {
   "cell_type": "markdown",
   "metadata": {},
   "source": [
    "### Grid search baseline\n",
    "\n",
    "Refine the initial model by using a grid search to tune the hyperparameters. The two most important parameters to adjust are `'C'` and `'gamma'`. Once again, be sure to record the training time as well as the training and test accuracy."
   ]
  },
  {
   "cell_type": "code",
   "execution_count": 39,
   "metadata": {},
   "outputs": [
    {
     "name": "stdout",
     "output_type": "stream",
     "text": [
      "163.79407405853271  seconds to fit\n"
     ]
    }
   ],
   "source": [
    "# Your code here\n",
    "# ⏰ Your code may take several minutes to run\n",
    "import numpy as np\n",
    "from sklearn.model_selection import GridSearchCV\n",
    "\n",
    "param_grid = {'C' : np.linspace(0.1, 10, num=11),\n",
    "             'gamma' : np.linspace(10**-3, 5, num=11)}\n",
    "\n",
    "gs = GridSearchCV(clf, param_grid, cv=5)\n",
    "\n",
    "start = time.time()\n",
    "\n",
    "gs.fit(X_train, y_train)\n",
    "\n",
    "end = time.time()\n",
    "\n",
    "print(end - start, ' seconds to fit')"
   ]
  },
  {
   "cell_type": "code",
   "execution_count": 40,
   "metadata": {},
   "outputs": [
    {
     "data": {
      "text/plain": [
       "{'C': 2.08, 'gamma': 0.001}"
      ]
     },
     "execution_count": 40,
     "metadata": {},
     "output_type": "execute_result"
    }
   ],
   "source": [
    "# Print the best parameters \n",
    "gs.best_params_"
   ]
  },
  {
   "cell_type": "code",
   "execution_count": 41,
   "metadata": {},
   "outputs": [
    {
     "name": "stdout",
     "output_type": "stream",
     "text": [
      "Training Accuracy: 1.0\tTesting Accuracy: 0.9911111111111112\n"
     ]
    }
   ],
   "source": [
    "# Print the training and test accuracy \n",
    "train_acc = accuracy_score(y_train, gs.predict(X_train))\n",
    "test_acc = accuracy_score(y_test, gs.predict(X_test))\n",
    "print('Training Accuracy: {}\\tTesting Accuracy: {}'.format(train_acc, test_acc))"
   ]
  },
  {
   "cell_type": "markdown",
   "metadata": {},
   "source": [
    "## Compressing with PCA\n",
    "\n",
    "Now that you've fit a baseline classifier, it's time to explore the impacts of using PCA as a preprocessing technique. To start, perform PCA on `X_train`. (Be sure to only fit PCA to `X_train`; you don't want to leak any information from the test set.) Also, don't reduce the number of features quite yet. You'll determine the number of features needed to account for 95% of the overall variance momentarily."
   ]
  },
  {
   "cell_type": "code",
   "execution_count": 42,
   "metadata": {},
   "outputs": [],
   "source": [
    "# Your code here\n",
    "from sklearn.decomposition import PCA\n",
    "pca = PCA()\n",
    "pca_X_train = pca.fit_transform(X_train)"
   ]
  },
  {
   "cell_type": "markdown",
   "metadata": {},
   "source": [
    "## Plot the explained variance versus number of features\n",
    "\n",
    "In order to determine the number of features you wish to reduce the dataset to, it is sensible to plot the overall variance accounted for by the first $n$ principle components. Create a graph of the variance explained versus the number of principle components."
   ]
  },
  {
   "cell_type": "code",
   "execution_count": 43,
   "metadata": {},
   "outputs": [
    {
     "data": {
      "text/plain": [
       "64"
      ]
     },
     "execution_count": 43,
     "metadata": {},
     "output_type": "execute_result"
    }
   ],
   "source": [
    "len(data.data.T)"
   ]
  },
  {
   "cell_type": "code",
   "execution_count": 44,
   "metadata": {},
   "outputs": [
    {
     "data": {
      "image/png": "[encoded data removed]",
      "text/plain": [
       "<Figure size 432x288 with 1 Axes>"
      ]
     },
     "metadata": {
      "needs_background": "light"
     },
     "output_type": "display_data"
    }
   ],
   "source": [
    "# This cell of code copied from the solution at https://github.com/learn-co-curriculum/dsc-pca-and-digital-image-processing-lab/tree/solution\n",
    "plt.plot(range(1,65), pca.explained_variance_ratio_.cumsum());"
   ]
  },
  {
   "cell_type": "markdown",
   "metadata": {},
   "source": [
    "## Determine the number of features to capture 95% of the variance\n",
    "\n",
    "Great! Now determine the number of features needed to capture 95% of the dataset's overall variance."
   ]
  },
  {
   "cell_type": "code",
   "execution_count": 45,
   "metadata": {},
   "outputs": [
    {
     "name": "stdout",
     "output_type": "stream",
     "text": [
      "29\n"
     ]
    }
   ],
   "source": [
    "# Your code here\n",
    "for x, y in zip(range(1,65), pca.explained_variance_ratio_.cumsum()):\n",
    "    if y >= 0.95:\n",
    "        print(x)\n",
    "        break"
   ]
  },
  {
   "cell_type": "markdown",
   "metadata": {},
   "source": [
    "## Subset the dataset to these principle components which capture 95%+ of the overall variance\n",
    "\n",
    "Use your knowledge to reproject the dataset into a lower dimensional space using PCA. "
   ]
  },
  {
   "cell_type": "code",
   "execution_count": 46,
   "metadata": {},
   "outputs": [],
   "source": [
    "# Your code here\n",
    "pca = PCA(n_components=29)\n",
    "pca_X_train = pca.fit_transform(X_train)\n",
    "pca_X_test = pca.transform(X_test)"
   ]
  },
  {
   "cell_type": "markdown",
   "metadata": {},
   "source": [
    "## Refit a model on the compressed dataset\n",
    "\n",
    "Now, refit a classification model to the compressed dataset. Be sure to time the required training time, as well as the test and training accuracy."
   ]
  },
  {
   "cell_type": "code",
   "execution_count": 47,
   "metadata": {},
   "outputs": [
    {
     "name": "stdout",
     "output_type": "stream",
     "text": [
      "0.19650959968566895 seconds to fit\n",
      "Training Accuracy: 1.0\n",
      "Testing Accuracy: 0.14888888888888888\n"
     ]
    }
   ],
   "source": [
    "# copied from previous cells\n",
    "clf = svm.SVC(gamma='auto')\n",
    "\n",
    "# start time\n",
    "start = time.time()\n",
    "\n",
    "# train model\n",
    "clf.fit(pca_X_train, y_train)\n",
    "\n",
    "# end time\n",
    "end = time.time()\n",
    "\n",
    "time_spent = end - start\n",
    "\n",
    "y_train_pred = clf.predict(pca_X_train)\n",
    "y_test_pred = clf.predict(pca_X_test)\n",
    "\n",
    "print(time_spent, 'seconds to fit')\n",
    "\n",
    "train_acc = accuracy_score(y_train, y_train_pred)\n",
    "test_acc = accuracy_score(y_test, y_test_pred)\n",
    "print('Training Accuracy: {}\\nTesting Accuracy: {}'.format(train_acc, test_acc))"
   ]
  },
  {
   "cell_type": "markdown",
   "metadata": {},
   "source": [
    "### Grid search\n",
    "\n",
    "Finally, use grid search to find optimal hyperparameters for the classifier on the reduced dataset. Be sure to record the time required to fit the model, the optimal hyperparameters and the test and train accuracy of the resulting model."
   ]
  },
  {
   "cell_type": "code",
   "execution_count": 48,
   "metadata": {},
   "outputs": [
    {
     "name": "stdout",
     "output_type": "stream",
     "text": [
      "112.36747622489929  seconds to fit\n"
     ]
    }
   ],
   "source": [
    "# Your code here\n",
    "# ⏰ Your code may take several minutes to run\n",
    "# copied from previous cells\n",
    "\n",
    "param_grid = {'C' : np.linspace(0.1, 10, num=11),\n",
    "             'gamma' : np.linspace(10**-3, 5, num=11)}\n",
    "\n",
    "gs = GridSearchCV(clf, param_grid, cv=5)\n",
    "\n",
    "start = time.time()\n",
    "\n",
    "gs.fit(pca_X_train, y_train)\n",
    "\n",
    "end = time.time()\n",
    "\n",
    "print(end - start, ' seconds to fit')"
   ]
  },
  {
   "cell_type": "code",
   "execution_count": 49,
   "metadata": {},
   "outputs": [
    {
     "data": {
      "text/plain": [
       "{'C': 2.08, 'gamma': 0.001}"
      ]
     },
     "execution_count": 49,
     "metadata": {},
     "output_type": "execute_result"
    }
   ],
   "source": [
    "# Print the best parameters \n",
    "gs.best_params_"
   ]
  },
  {
   "cell_type": "code",
   "execution_count": 50,
   "metadata": {},
   "outputs": [
    {
     "name": "stdout",
     "output_type": "stream",
     "text": [
      "Training Accuracy: 0.9992576095025983\tTesting Accuracy: 0.9933333333333333\n"
     ]
    }
   ],
   "source": [
    "# Print the training and test accuracy \n",
    "train_acc = accuracy_score(y_train, gs.predict(pca_X_train))\n",
    "test_acc = accuracy_score(y_test, gs.predict(pca_X_test))\n",
    "print('Training Accuracy: {}\\tTesting Accuracy: {}'.format(train_acc, test_acc))"
   ]
  },
  {
   "cell_type": "markdown",
   "metadata": {},
   "source": [
    "## Summary\n",
    "\n",
    "Well done! In this lab, you employed PCA to reduce a high dimensional dataset. With this, you observed the potential cost benefits required to train a model and performance gains of the model itself."
   ]
  }
 ],
 "metadata": {
  "kernelspec": {
   "display_name": "Python 3",
   "language": "python",
   "name": "python3"
  },
  "language_info": {
   "codemirror_mode": {
    "name": "ipython",
    "version": 3
   },
   "file_extension": ".py",
   "mimetype": "text/x-python",
   "name": "python",
   "nbconvert_exporter": "python",
   "pygments_lexer": "ipython3",
   "version": "3.7.3"
  },
  "toc": {
   "base_numbering": 1,
   "nav_menu": {},
   "number_sections": true,
   "sideBar": true,
   "skip_h1_title": false,
   "title_cell": "Table of Contents",
   "title_sidebar": "Contents",
   "toc_cell": false,
   "toc_position": {},
   "toc_section_display": true,
   "toc_window_display": false
  }
 },
 "nbformat": 4,
 "nbformat_minor": 2
}
